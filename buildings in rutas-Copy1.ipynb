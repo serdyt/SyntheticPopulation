{
 "cells": [
  {
   "cell_type": "code",
   "execution_count": 1,
   "id": "0b8cd846",
   "metadata": {
    "scrolled": false
   },
   "outputs": [],
   "source": [
    "import geopandas\n",
    "import pandas as pd\n",
    "import numpy as np\n",
    "import random\n",
    "import math\n",
    "import seaborn as sns\n",
    "import matplotlib.pyplot as plt"
   ]
  },
  {
   "cell_type": "markdown",
   "id": "44b0899e",
   "metadata": {},
   "source": [
    "# Data"
   ]
  },
  {
   "cell_type": "code",
   "execution_count": 2,
   "id": "1e528fce",
   "metadata": {},
   "outputs": [
    {
     "name": "stderr",
     "output_type": "stream",
     "text": [
      "/tmp/ipykernel_7614/2813531054.py:3: UserWarning: Geometry is in a geographic CRS. Results from 'centroid' are likely incorrect. Use 'GeoSeries.to_crs()' to re-project geometries to a projected CRS before this operation.\n",
      "\n",
      "  buildings.geometry = buildings.geometry.centroid\n"
     ]
    }
   ],
   "source": [
    "buildings = geopandas.read_file('data/by_get.shp')\n",
    "buildings = buildings.to_crs(\"EPSG:4326\")\n",
    "buildings.geometry = buildings.geometry.centroid"
   ]
  },
  {
   "cell_type": "code",
   "execution_count": 3,
   "id": "55e51cbd",
   "metadata": {},
   "outputs": [],
   "source": [
    "ruta1000 = geopandas.read_file('data/B1 ruta 1000 difference with 250.shp')\n",
    "ruta1000 = ruta1000.to_crs(\"EPSG:4326\")\n",
    "\n",
    "ruta250 = geopandas.read_file('data/B1 ruta 250.shp')\n",
    "ruta250 = ruta250.to_crs(\"EPSG:4326\")\n",
    "\n",
    "rutas = geopandas.GeoDataFrame(pd.concat([ruta250, ruta1000], axis=0))\n",
    "\n",
    "rutas['Ruta'] = rutas.Ruta.astype(int)\n",
    "rutas = rutas.set_index('Ruta')"
   ]
  },
  {
   "cell_type": "code",
   "execution_count": 4,
   "id": "d485e866",
   "metadata": {},
   "outputs": [],
   "source": [
    "houses = buildings[buildings.ANDAMAL_1 < 200]\n",
    "workplaces = geopandas.read_file('data/workplaces_OSM_SCB_merged.geojson')"
   ]
  },
  {
   "cell_type": "code",
   "execution_count": null,
   "id": "1a580f67",
   "metadata": {},
   "outputs": [],
   "source": [
    "houses_in_ruta = []\n",
    "workplaces_in_ruta = []\n",
    "columns = rutas.reset_index().columns\n",
    "r = rutas\n",
    "for ruta in r.itertuples():\n",
    "    ruta_repeated = geopandas.GeoDataFrame(np.repeat([ruta], len(houses.index), axis=0), columns=columns, geometry='geometry', crs=\"EPSG:4326\")\n",
    "    ruta_houses_ind = houses[ruta_repeated.contains(houses.geometry, align=False).values].index\n",
    "    houses_in_ruta.append(ruta_houses_ind.to_list())\n",
    "    \n",
    "    ruta_repeated = geopandas.GeoDataFrame(np.repeat([ruta], len(workplaces.index), axis=0), columns=columns, geometry='geometry', crs=\"EPSG:4326\")\n",
    "    ruta_workplaces_ind = workplaces[ruta_repeated.contains(workplaces.geometry, align=False).values].index\n",
    "    workplaces_in_ruta.append(ruta_workplaces_ind.to_list())"
   ]
  },
  {
   "cell_type": "code",
   "execution_count": 74,
   "id": "4ce20719",
   "metadata": {},
   "outputs": [],
   "source": [
    "r['houses_in_ruta'] = houses_in_ruta\n",
    "r['workplaces_in_ruta'] = workplaces_in_ruta"
   ]
  },
  {
   "cell_type": "code",
   "execution_count": 75,
   "id": "7ffa0213",
   "metadata": {},
   "outputs": [
    {
     "data": {
      "text/html": [
       "<div>\n",
       "<style scoped>\n",
       "    .dataframe tbody tr th:only-of-type {\n",
       "        vertical-align: middle;\n",
       "    }\n",
       "\n",
       "    .dataframe tbody tr th {\n",
       "        vertical-align: top;\n",
       "    }\n",
       "\n",
       "    .dataframe thead th {\n",
       "        text-align: right;\n",
       "    }\n",
       "</style>\n",
       "<table border=\"1\" class=\"dataframe\">\n",
       "  <thead>\n",
       "    <tr style=\"text-align: right;\">\n",
       "      <th></th>\n",
       "      <th>Rutstorl</th>\n",
       "      <th>Ald0_6</th>\n",
       "      <th>Ald7_15</th>\n",
       "      <th>Ald16_19</th>\n",
       "      <th>Ald20_24</th>\n",
       "      <th>Ald25_44</th>\n",
       "      <th>Ald45_64</th>\n",
       "      <th>Ald65_W</th>\n",
       "      <th>Totalt</th>\n",
       "      <th>geometry</th>\n",
       "      <th>houses_in_ruta</th>\n",
       "      <th>workplaces_in_ruta</th>\n",
       "    </tr>\n",
       "    <tr>\n",
       "      <th>Ruta</th>\n",
       "      <th></th>\n",
       "      <th></th>\n",
       "      <th></th>\n",
       "      <th></th>\n",
       "      <th></th>\n",
       "      <th></th>\n",
       "      <th></th>\n",
       "      <th></th>\n",
       "      <th></th>\n",
       "      <th></th>\n",
       "      <th></th>\n",
       "      <th></th>\n",
       "    </tr>\n",
       "  </thead>\n",
       "  <tbody>\n",
       "    <tr>\n",
       "      <th>4800006223750</th>\n",
       "      <td>250</td>\n",
       "      <td>0</td>\n",
       "      <td>3</td>\n",
       "      <td>0</td>\n",
       "      <td>3</td>\n",
       "      <td>3</td>\n",
       "      <td>11</td>\n",
       "      <td>3</td>\n",
       "      <td>23</td>\n",
       "      <td>POLYGON ((14.67800 56.15835, 14.67798 56.16059...</td>\n",
       "      <td>[1074531, 1074534, 1074538, 1074542, 1074543, ...</td>\n",
       "      <td>[]</td>\n",
       "    </tr>\n",
       "    <tr>\n",
       "      <th>4797506223750</th>\n",
       "      <td>250</td>\n",
       "      <td>0</td>\n",
       "      <td>0</td>\n",
       "      <td>0</td>\n",
       "      <td>3</td>\n",
       "      <td>4</td>\n",
       "      <td>14</td>\n",
       "      <td>7</td>\n",
       "      <td>28</td>\n",
       "      <td>POLYGON ((14.67398 56.15834, 14.67396 56.16058...</td>\n",
       "      <td>[1074615, 1074616, 1074617, 1074666, 1074685, ...</td>\n",
       "      <td>[]</td>\n",
       "    </tr>\n",
       "  </tbody>\n",
       "</table>\n",
       "</div>"
      ],
      "text/plain": [
       "               Rutstorl  Ald0_6  Ald7_15  Ald16_19  Ald20_24  Ald25_44  \\\n",
       "Ruta                                                                     \n",
       "4800006223750       250       0        3         0         3         3   \n",
       "4797506223750       250       0        0         0         3         4   \n",
       "\n",
       "               Ald45_64  Ald65_W  Totalt  \\\n",
       "Ruta                                       \n",
       "4800006223750        11        3      23   \n",
       "4797506223750        14        7      28   \n",
       "\n",
       "                                                        geometry  \\\n",
       "Ruta                                                               \n",
       "4800006223750  POLYGON ((14.67800 56.15835, 14.67798 56.16059...   \n",
       "4797506223750  POLYGON ((14.67398 56.15834, 14.67396 56.16058...   \n",
       "\n",
       "                                                  houses_in_ruta  \\\n",
       "Ruta                                                               \n",
       "4800006223750  [1074531, 1074534, 1074538, 1074542, 1074543, ...   \n",
       "4797506223750  [1074615, 1074616, 1074617, 1074666, 1074685, ...   \n",
       "\n",
       "              workplaces_in_ruta  \n",
       "Ruta                              \n",
       "4800006223750                 []  \n",
       "4797506223750                 []  "
      ]
     },
     "execution_count": 75,
     "metadata": {},
     "output_type": "execute_result"
    }
   ],
   "source": [
    "r"
   ]
  },
  {
   "cell_type": "code",
   "execution_count": 36,
   "id": "6d4edf7d",
   "metadata": {},
   "outputs": [
    {
     "name": "stderr",
     "output_type": "stream",
     "text": [
      "/tmp/ipykernel_25569/4042759684.py:1: UserWarning: this is an initial implementation of Parquet/Feather file support and associated metadata.  This is tracking version 0.1.0 of the metadata specification at https://github.com/geopandas/geo-arrow-spec\n",
      "\n",
      "This metadata specification does not yet make stability promises.  We do not yet recommend using this in a production setting unless you are able to rewrite your Parquet/Feather files.\n",
      "\n",
      "To further ignore this warning, you can do: \n",
      "import warnings; warnings.filterwarnings('ignore', message='.*initial implementation of Parquet.*')\n",
      "  r.drop('geometry', axis=1).to_feather('data/rutas_with_buildings.feather')\n"
     ]
    }
   ],
   "source": [
    "r.drop('geometry', axis=1).to_feather('data/rutas_with_buildings.feather')"
   ]
  },
  {
   "cell_type": "code",
   "execution_count": 38,
   "id": "d371ce12",
   "metadata": {},
   "outputs": [],
   "source": [
    "pd.read_feather('data/rutas_with_buildings.feather')"
   ]
  },
  {
   "cell_type": "code",
   "execution_count": null,
   "id": "2eb8c5c3",
   "metadata": {},
   "outputs": [],
   "source": []
  }
 ],
 "metadata": {
  "kernelspec": {
   "display_name": "Python 3",
   "language": "python",
   "name": "python3"
  },
  "language_info": {
   "codemirror_mode": {
    "name": "ipython",
    "version": 3
   },
   "file_extension": ".py",
   "mimetype": "text/x-python",
   "name": "python",
   "nbconvert_exporter": "python",
   "pygments_lexer": "ipython3",
   "version": "3.9.12"
  }
 },
 "nbformat": 4,
 "nbformat_minor": 5
}
